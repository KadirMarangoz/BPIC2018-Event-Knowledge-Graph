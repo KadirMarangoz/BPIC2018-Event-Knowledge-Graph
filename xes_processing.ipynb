{
 "cells": [
  {
   "cell_type": "code",
   "execution_count": null,
   "id": "1154e220-88c8-44f0-a5d9-d12b76db2484",
   "metadata": {},
   "outputs": [],
   "source": [
    "import pm4py\n",
    "import pandas\n",
    "import pickle\n",
    "import os"
   ]
  },
  {
   "cell_type": "code",
   "execution_count": null,
   "id": "8edd05f5-2d86-4604-8ba1-c3d51813f5e3",
   "metadata": {},
   "outputs": [],
   "source": [
    "if not os.path.exists('./pickles/pickled_xes'):\n",
    "    log = pm4py.read_xes('./raw_data/BPI Challenge 2018.xes')\n",
    "    file = open('./pickles/pickled_xes', 'wb')\n",
    "    pickle.dump(log, file)\n",
    "    file.close()\n",
    "else:\n",
    "    file = open('./pickles/pickled_xes', 'rb')\n",
    "    log = pickle.load(file)\n",
    "    file.close()"
   ]
  },
  {
   "cell_type": "code",
   "execution_count": null,
   "id": "a5446f62-9057-46f0-8532-b3e3ffa510a8",
   "metadata": {},
   "outputs": [],
   "source": [
    "trace_columns = [column for column in log.columns if \"case:\" in column]\n",
    "trace_data = log.loc[:, trace_columns]\n",
    "trace_data.drop_duplicates(keep=\"first\", inplace=True)"
   ]
  },
  {
   "cell_type": "code",
   "execution_count": null,
   "id": "26f251c1-b757-49f7-ad4a-a91d431f195a",
   "metadata": {},
   "outputs": [],
   "source": [
    "log = log.assign(application=log[\"case:application\"])\n",
    "event_columns = [column for column in log.columns if not \"case:\" in column]\n",
    "event_data = log.loc[:, event_columns]"
   ]
  },
  {
   "cell_type": "code",
   "execution_count": null,
   "id": "8af0627d-0650-4e93-b131-cdca24de3b4d",
   "metadata": {},
   "outputs": [],
   "source": [
    "trace_data.to_csv('./csv_data/traces.csv', index = False)\n",
    "event_data.to_csv('./csv_data/events.csv', index = False)"
   ]
  },
  {
   "cell_type": "code",
   "execution_count": null,
   "id": "f30399fa-dd58-4a40-ac57-8a83defbbba6",
   "metadata": {},
   "outputs": [],
   "source": []
  }
 ],
 "metadata": {
  "kernelspec": {
   "display_name": "Python 3 (ipykernel)",
   "language": "python",
   "name": "python3"
  },
  "language_info": {
   "codemirror_mode": {
    "name": "ipython",
    "version": 3
   },
   "file_extension": ".py",
   "mimetype": "text/x-python",
   "name": "python",
   "nbconvert_exporter": "python",
   "pygments_lexer": "ipython3",
   "version": "3.9.5"
  }
 },
 "nbformat": 4,
 "nbformat_minor": 5
}
