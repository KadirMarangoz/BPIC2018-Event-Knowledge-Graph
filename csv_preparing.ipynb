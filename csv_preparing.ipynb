{
 "cells": [
  {
   "cell_type": "code",
   "execution_count": null,
   "id": "4706d8a6-3bb1-4a82-9475-1adb1cfc6272",
   "metadata": {},
   "outputs": [],
   "source": [
    "import pandas as pd\n",
    "import time, os, csv"
   ]
  },
  {
   "cell_type": "code",
   "execution_count": null,
   "id": "753c1ca6-3e22-4bfb-a42c-3dc81b88b2b3",
   "metadata": {},
   "outputs": [],
   "source": [
    "events = pd.read_csv(\"./csv_data/events.csv\")\n",
    "traces = pd.read_csv(\"./csv_data/traces.csv\")"
   ]
  },
  {
   "cell_type": "code",
   "execution_count": null,
   "id": "a9a2d008-ff39-48fe-9274-531932dda87a",
   "metadata": {},
   "outputs": [],
   "source": [
    "events = events.rename(columns = {'org:resource': 'resource', 'identity:id': 'identity', 'concept:name': 'activity', 'time:timestamp': 'timestamp', 'lifecycle:transition': 'lifecycle_transition'})\n",
    "traces = traces.rename(columns = {'case:young farmer': 'young_farmer', 'case:selected_random': 'selected_random', 'case:application': 'application', 'case:penalty_amount0': 'pentalty_amount0', 'case:penalty_AJLP': 'penalty_AJLP', 'case:program-id': 'program_id', 'case:penalty_BGK': 'penalty_BKG', 'case:penalty_AUVP': 'penalty_AUVP', 'case:applicant': 'applicant', 'case:risk_factor': 'risk_factor', 'case:small farmer': 'small_farmer', 'case:penalty_BGP': 'penalty_BGP', 'case:department': 'department', 'case:penalty_C16': 'penalty_C16', 'case:penalty_AVUVP': 'penalty_AVUVP', 'case:penalty_CC': 'penalty_CC', 'case:penalty_AVJLP': 'penalty_AVJLP', 'case:penalty_C9': 'penalty_C9', 'case:cross_compliance': 'cross_compliance', 'case:rejected': 'rejected', 'case:greening': 'greening', 'case:penalty_C4': 'penalty_C4', 'case:penalty_AVGP': 'penalty_AVGP', 'case:penalty_ABP': 'penalty_ABP', 'case:penalty_B6': 'penalty_B6', 'case:penalty_B4': 'penalty_B4', 'case:penalty_B5': 'penalty_B5', 'case:penalty_AVBP': 'penalty_AVBP', 'case:penalty_B2': 'penalty_B2', 'case:selected_risk': 'selected_risk', 'case:penalty_B_3': 'penalty_B3', 'case:area': 'area', 'case:selected_manually': 'selected_manually', 'case:penalty_AGP': 'penalty_AGP', 'case:penalty_B16': 'penalty_B16', 'case:penalty_B16': 'penalty_B16', 'case:penalty_GP1': 'penalty_GP1', 'case:basic payment': 'basic_payment', 'case:penalty_B5F': 'penalty_B5F', 'case:penalty_V5': 'penalty_V5', 'case:payment_actual0': 'payment_actual0', 'case:identity:id': 'identity', 'case:amount_applied0': 'amount_applied0', 'case:redistribution': 'redistribution', 'case:penalty_JLP6': 'penalty_JLP6', 'case:penalty_JLP7': 'penalty_JLP7', 'case:year': 'year', 'case:penalty_JLP5': 'penalty_JLP5', 'case:penalty_JLP2': 'penalty_JLP2', 'case:penalty_JLP3': 'penalty_JLP3', 'case:number_parcels': 'number_parcels', 'case:penalty_JLP1': 'penalty_JLP1', 'case:concept:name': 'concept_name', 'case:penalty_amount1': 'penalty_amount1', 'case:payment_actual1': 'payment_actual1', 'case:amount_applied1': 'amount_applied1', 'case:penalty_amount2': 'penalty_amount2', 'case:payment_actual2': 'payment_actual2', 'case:amount_applied2': 'amount_applied2', 'case:penalty_amount3': 'penalty_amount3', 'case:payment_actual3': 'payment_actual3', 'case:amount_applied3': 'amount_applied3', 'case:penalty_BGKV': 'penalty_BGKV', 'case:penalty_B3': 'penalty_B3'})"
   ]
  },
  {
   "cell_type": "code",
   "execution_count": null,
   "id": "e30171b9-386e-41ed-ab87-e133f2bec808",
   "metadata": {},
   "outputs": [],
   "source": [
    "events['timestamp'] = pd.to_datetime(events['timestamp'], format='%Y/%m/%d %H:%M:%S.%f')\n",
    "events['timestamp'] = events['timestamp'].map(lambda x: x.strftime('%Y-%m-%dT%H:%M:%S.%f') + '+0100')\n",
    "events.sort_values(['application','timestamp'], inplace=True)"
   ]
  },
  {
   "cell_type": "code",
   "execution_count": null,
   "id": "3cd4220b-ed82-487b-b586-f2e508152485",
   "metadata": {},
   "outputs": [],
   "source": [
    "traces.to_csv('./prepared_data/full_traces.csv', index = False)\n",
    "events.to_csv('./prepared_data/full_events.csv', index = False)"
   ]
  },
  {
   "cell_type": "code",
   "execution_count": null,
   "id": "3130ac5c-8665-4dd5-906f-c6a003d3961a",
   "metadata": {},
   "outputs": [],
   "source": []
  }
 ],
 "metadata": {
  "kernelspec": {
   "display_name": "Python 3 (ipykernel)",
   "language": "python",
   "name": "python3"
  },
  "language_info": {
   "codemirror_mode": {
    "name": "ipython",
    "version": 3
   },
   "file_extension": ".py",
   "mimetype": "text/x-python",
   "name": "python",
   "nbconvert_exporter": "python",
   "pygments_lexer": "ipython3",
   "version": "3.9.5"
  }
 },
 "nbformat": 4,
 "nbformat_minor": 5
}
