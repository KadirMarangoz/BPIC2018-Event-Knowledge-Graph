{
 "cells": [
  {
   "cell_type": "code",
   "execution_count": 8,
   "id": "aafae9c3-e3ab-4fb8-b245-55c8da385a91",
   "metadata": {},
   "outputs": [],
   "source": [
    "import neo4j\n",
    "import csv\n",
    "import pandas as pd\n",
    "\n",
    "driver = neo4j.GraphDatabase.driver(\"bolt://localhost:7687\", auth=(\"neo4j\", \"1234\")) \n",
    "driver.verify_connectivity()"
   ]
  },
  {
   "cell_type": "code",
   "execution_count": 9,
   "id": "3c72d6c5-0a49-4303-a70b-fc10f9c4c0a7",
   "metadata": {},
   "outputs": [],
   "source": [
    "def run_query(driver, query):\n",
    "    with driver.session() as session:\n",
    "        # result = session.run(query)\n",
    "        result = session.run(query)\n",
    "        if result != None: \n",
    "            return result.value()\n",
    "        else:\n",
    "            return None\n",
    "\n",
    "def clear_relations(driver):\n",
    "        delete_relation_query = f\"\"\"\n",
    "            MATCH ()-[r]-()\n",
    "            CALL {{\n",
    "                WITH r\n",
    "                DELETE r\n",
    "            }} IN TRANSACTIONS\n",
    "            \"\"\"\n",
    "        run_query(driver, delete_relation_query)\n",
    "\n",
    "def clear_nodes(driver):\n",
    "    delete_node_query = f\"\"\"\n",
    "        MATCH (n)\n",
    "        CALL {{\n",
    "            WITH n\n",
    "            DELETE n\n",
    "        }} IN TRANSACTIONS\n",
    "        \"\"\"\n",
    "    run_query(driver, delete_node_query)\n",
    "\n",
    "def clear_db(driver):\n",
    "    clear_relations(driver)\n",
    "    clear_nodes(driver)\n",
    "\n",
    "def connect_event_application(driver):\n",
    "    with driver.session() as session:\n",
    "        session.run(f\"\"\"\n",
    "        MATCH (e:Event)\n",
    "        MATCH (a:Application) WHERE e.application = a.application\n",
    "        CALL {{\n",
    "            WITH a, e\n",
    "            MERGE (e)-[:LOG]->(a)\n",
    "        }} IN TRANSACTIONS\n",
    "        \"\"\")\n",
    "        \n",
    "def create_entity_nodes(driver):\n",
    "    entity_types = [\"doctype\", \"resource\", \"subprocess\"]\n",
    "    with driver.session() as session:\n",
    "        for entity_type in entity_types:\n",
    "            session.run(f\"\"\"\n",
    "                MATCH (e:Event) \n",
    "                WITH e UNWIND e.{entity_type} AS id_val\n",
    "                WITH DISTINCT id_val\n",
    "                CALL {{\n",
    "                    WITH id_val\n",
    "                    MERGE (:Entity {{ID:id_val, EntityType:\"{entity_type}\"}})\n",
    "                }} IN TRANSACTIONS\n",
    "                \"\"\")\n",
    "            session.run(f\"\"\"\n",
    "                MATCH (e:Event) \n",
    "                MATCH (n:Entity {{EntityType: \"{entity_type}\"}}) WHERE e.{entity_type} = n.ID\n",
    "                CALL {{\n",
    "                    WITH e, n\n",
    "                    MERGE (e)-[:CORR]->(n)\n",
    "                }} IN TRANSACTIONS\n",
    "                \"\"\")\n",
    "\n",
    "def create_df_logs(driver):\n",
    "    with driver.session() as session:\n",
    "        session.run(f\"\"\"\n",
    "            MATCH (a:Application)\n",
    "            CALL {{\n",
    "                WITH a\n",
    "                MATCH (a)<-[:LOG]-(e)\n",
    "                WITH a, e AS events ORDER BY e.timestamp\n",
    "                WITH a, collect(events) AS event_node_list\n",
    "                UNWIND range(0, size(event_node_list) - 2) as i\n",
    "                WITH a, event_node_list[i] AS e1, event_node_list[i + 1] AS e2\n",
    "                MERGE (e1)-[df:DF_LOG {{Application:a.application}}]->(e2)\n",
    "            }} IN TRANSACTIONS\n",
    "            \"\"\")\n",
    "        \n",
    "def create_df_entities(driver):\n",
    "    with driver.session() as session:\n",
    "        session.run(f\"\"\"\n",
    "            MATCH (n:Entity)\n",
    "            CALL {{\n",
    "                WITH n\n",
    "                MATCH (n)<-[:CORR]-(e)\n",
    "                WITH n, e AS events ORDER BY e.timestamp\n",
    "                WITH n, collect(events) AS event_node_list\n",
    "                UNWIND range(0, size(event_node_list) - 2) as i\n",
    "                WITH n, event_node_list[i] AS e1, event_node_list[i + 1] AS e2\n",
    "                MERGE (e1)-[df:DF_ENTITY {{EntityType:n.EntityType, ID:n.ID}}]->(e2)\n",
    "            }} IN TRANSACTIONS\n",
    "            \"\"\")\n"
   ]
  },
  {
   "cell_type": "code",
   "execution_count": 3,
   "id": "807e48b4-dab9-47af-841d-5a355536a6a9",
   "metadata": {},
   "outputs": [],
   "source": [
    "# clear_db(driver)"
   ]
  },
  {
   "cell_type": "code",
   "execution_count": 10,
   "id": "8d69df7b-325b-447b-90f7-7733c47fd03c",
   "metadata": {},
   "outputs": [],
   "source": [
    "connect_event_application(driver)"
   ]
  },
  {
   "cell_type": "code",
   "execution_count": 11,
   "id": "d91918ce-ed3d-4621-9a98-e922ba56bf03",
   "metadata": {},
   "outputs": [],
   "source": [
    "create_df_logs(driver)"
   ]
  },
  {
   "cell_type": "code",
   "execution_count": 12,
   "id": "981b3f5f-1f93-432d-9f50-711379245d5d",
   "metadata": {},
   "outputs": [],
   "source": [
    "create_entity_nodes(driver)"
   ]
  },
  {
   "cell_type": "code",
   "execution_count": 13,
   "id": "bc2d3db0-3cc7-4bea-84dc-2255e876d70a",
   "metadata": {},
   "outputs": [],
   "source": [
    "create_df_entities(driver)"
   ]
  },
  {
   "cell_type": "code",
   "execution_count": null,
   "id": "91a4d36f-e01c-47b3-b156-578f0293382c",
   "metadata": {},
   "outputs": [],
   "source": []
  }
 ],
 "metadata": {
  "kernelspec": {
   "display_name": "Python 3 (ipykernel)",
   "language": "python",
   "name": "python3"
  },
  "language_info": {
   "codemirror_mode": {
    "name": "ipython",
    "version": 3
   },
   "file_extension": ".py",
   "mimetype": "text/x-python",
   "name": "python",
   "nbconvert_exporter": "python",
   "pygments_lexer": "ipython3",
   "version": "3.9.5"
  }
 },
 "nbformat": 4,
 "nbformat_minor": 5
}
